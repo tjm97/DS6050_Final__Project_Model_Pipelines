{
 "cells": [
  {
   "cell_type": "markdown",
   "id": "590ee61c-8470-4784-8dc7-82350d2d7adb",
   "metadata": {},
   "source": [
    "# Taking Sample of Data from full set downloaded locally"
   ]
  },
  {
   "cell_type": "code",
   "execution_count": 99,
   "id": "ebe75441-2573-478a-be7a-4957b8cdfd9d",
   "metadata": {},
   "outputs": [],
   "source": [
    "import numpy as np\n",
    "import os"
   ]
  },
  {
   "cell_type": "code",
   "execution_count": 100,
   "id": "bf441b46-bab7-496b-a9aa-4bd75cfd4c93",
   "metadata": {},
   "outputs": [
    {
     "data": {
      "text/plain": [
       "'C:\\\\Users\\\\trent\\\\Documents\\\\DS 6050\\\\Final Project\\\\VOC2007\\\\JPEGImages'"
      ]
     },
     "execution_count": 100,
     "metadata": {},
     "output_type": "execute_result"
    }
   ],
   "source": [
    "os.getcwd()"
   ]
  },
  {
   "cell_type": "code",
   "execution_count": 101,
   "id": "6a9ea38c-324b-456e-8237-d40836e60301",
   "metadata": {},
   "outputs": [
    {
     "data": {
      "text/plain": [
       "'C:\\\\Users\\\\trent\\\\Documents\\\\DS 6050\\\\Final Project\\\\VOC2007\\\\JPEGImages'"
      ]
     },
     "execution_count": 101,
     "metadata": {},
     "output_type": "execute_result"
    }
   ],
   "source": [
    "os.getcwd()"
   ]
  },
  {
   "cell_type": "code",
   "execution_count": 104,
   "id": "03c38922-70d0-4913-a392-074f74f77d76",
   "metadata": {},
   "outputs": [],
   "source": [
    "os.chdir('C:\\\\Users\\\\trent\\\\Documents\\\\DS 6050\\\\Final Project\\\\VOC2007\\\\JPEGImages')\n",
    "from glob import glob\n",
    "import shutil\n",
    "from sklearn.model_selection import train_test_split\n",
    "# do test train splitting\n",
    "\n",
    "# find image names\n",
    "image_files = glob('*.jpg')\n",
    "# remove file extension\n",
    "image_names = [name.replace(\".jpg\",\"\") for name in image_files]\n",
    "# Use scikit learn function for convenience\n",
    "train_names, test_names  = train_test_split(image_names, train_size = .01, test_size=0.005)"
   ]
  },
  {
   "cell_type": "code",
   "execution_count": 105,
   "id": "0d6cc038-42e6-4af9-bb0c-5d6d06f21cbe",
   "metadata": {},
   "outputs": [
    {
     "data": {
      "text/plain": [
       "100"
      ]
     },
     "execution_count": 105,
     "metadata": {},
     "output_type": "execute_result"
    }
   ],
   "source": [
    "len(test_names)"
   ]
  },
  {
   "cell_type": "code",
   "execution_count": 106,
   "id": "0d34059b-80c2-4f70-a314-4205581c9726",
   "metadata": {},
   "outputs": [],
   "source": [
    "def batch_move_files(file_list, source_path, destination_path):\n",
    "    for file in file_list:\n",
    "         image = file+'.jpg'\n",
    "         xml = file+'.xml'\n",
    "         source_jpg = os.path.join(source_path, image)\n",
    "         dest_jpg = os.path.join(destination_path, image)\n",
    "         shutil.copy(source_jpg, \n",
    "                     dest_jpg)\n",
    "         shutil.copy(os.path.join(source_path, xml),\n",
    "                     os.path.join(destination_path, xml))\n",
    "         # print(image)\n",
    "         # print(xml)\n",
    "         # print(source_jpg)\n",
    "         print(dest_jpg)\n",
    "    return\n",
    "\n",
    "source_dir = 'C:\\\\Users\\\\trent\\\\Documents\\\\DS 6050\\\\Final Project\\\\VOC2007\\\\JPEGImages'\n",
    "test_dir = 'C:\\\\Users\\\\trent\\\\Documents\\\\DS 6050\\\\Final Project\\\\VOC2007\\\\JPEGImages\\\\test\\\\'\n",
    "train_dir = 'C:\\\\Users\\\\trent\\\\Documents\\\\DS 6050\\\\Final Project\\\\VOC2007\\\\JPEGImages\\\\train\\\\'"
   ]
  },
  {
   "cell_type": "code",
   "execution_count": 108,
   "id": "1d7e176e-ab73-4287-b3ed-bcddae82a6cd",
   "metadata": {
    "tags": []
   },
   "outputs": [
    {
     "name": "stdout",
     "output_type": "stream",
     "text": [
      "C:\\Users\\trent\\Documents\\DS 6050\\Final Project\\VOC2007\\JPEGImages\\train\\hptm1161.jpg\n",
      "C:\\Users\\trent\\Documents\\DS 6050\\Final Project\\VOC2007\\JPEGImages\\train\\hptm664.jpg\n",
      "C:\\Users\\trent\\Documents\\DS 6050\\Final Project\\VOC2007\\JPEGImages\\train\\hptm9008.jpg\n",
      "C:\\Users\\trent\\Documents\\DS 6050\\Final Project\\VOC2007\\JPEGImages\\train\\hptm7699.jpg\n",
      "C:\\Users\\trent\\Documents\\DS 6050\\Final Project\\VOC2007\\JPEGImages\\train\\hptm7841.jpg\n",
      "C:\\Users\\trent\\Documents\\DS 6050\\Final Project\\VOC2007\\JPEGImages\\train\\hptm5904.jpg\n",
      "C:\\Users\\trent\\Documents\\DS 6050\\Final Project\\VOC2007\\JPEGImages\\train\\hd19.jpg\n",
      "C:\\Users\\trent\\Documents\\DS 6050\\Final Project\\VOC2007\\JPEGImages\\train\\hpdr307.jpg\n",
      "C:\\Users\\trent\\Documents\\DS 6050\\Final Project\\VOC2007\\JPEGImages\\train\\hptm692.jpg\n",
      "C:\\Users\\trent\\Documents\\DS 6050\\Final Project\\VOC2007\\JPEGImages\\train\\hptm3885.jpg\n",
      "C:\\Users\\trent\\Documents\\DS 6050\\Final Project\\VOC2007\\JPEGImages\\train\\hd1781.jpg\n",
      "C:\\Users\\trent\\Documents\\DS 6050\\Final Project\\VOC2007\\JPEGImages\\train\\hook1150.jpg\n",
      "C:\\Users\\trent\\Documents\\DS 6050\\Final Project\\VOC2007\\JPEGImages\\train\\hook554.jpg\n",
      "C:\\Users\\trent\\Documents\\DS 6050\\Final Project\\VOC2007\\JPEGImages\\train\\hd1905.jpg\n",
      "C:\\Users\\trent\\Documents\\DS 6050\\Final Project\\VOC2007\\JPEGImages\\train\\hpdr851.jpg\n",
      "C:\\Users\\trent\\Documents\\DS 6050\\Final Project\\VOC2007\\JPEGImages\\train\\yf225.jpg\n",
      "C:\\Users\\trent\\Documents\\DS 6050\\Final Project\\VOC2007\\JPEGImages\\train\\hpdr3382.jpg\n",
      "C:\\Users\\trent\\Documents\\DS 6050\\Final Project\\VOC2007\\JPEGImages\\train\\zl08.jpg\n",
      "C:\\Users\\trent\\Documents\\DS 6050\\Final Project\\VOC2007\\JPEGImages\\train\\hpdji263.jpg\n",
      "C:\\Users\\trent\\Documents\\DS 6050\\Final Project\\VOC2007\\JPEGImages\\train\\hptm4218.jpg\n",
      "C:\\Users\\trent\\Documents\\DS 6050\\Final Project\\VOC2007\\JPEGImages\\train\\hptm7824.jpg\n",
      "C:\\Users\\trent\\Documents\\DS 6050\\Final Project\\VOC2007\\JPEGImages\\train\\zl65.jpg\n",
      "C:\\Users\\trent\\Documents\\DS 6050\\Final Project\\VOC2007\\JPEGImages\\train\\hptm945.jpg\n",
      "C:\\Users\\trent\\Documents\\DS 6050\\Final Project\\VOC2007\\JPEGImages\\train\\hptm9330.jpg\n",
      "C:\\Users\\trent\\Documents\\DS 6050\\Final Project\\VOC2007\\JPEGImages\\train\\hptm1524.jpg\n",
      "C:\\Users\\trent\\Documents\\DS 6050\\Final Project\\VOC2007\\JPEGImages\\train\\hpdji1324.jpg\n",
      "C:\\Users\\trent\\Documents\\DS 6050\\Final Project\\VOC2007\\JPEGImages\\train\\hpdji1343.jpg\n",
      "C:\\Users\\trent\\Documents\\DS 6050\\Final Project\\VOC2007\\JPEGImages\\train\\hptm8541.jpg\n",
      "C:\\Users\\trent\\Documents\\DS 6050\\Final Project\\VOC2007\\JPEGImages\\train\\zl113.jpg\n",
      "C:\\Users\\trent\\Documents\\DS 6050\\Final Project\\VOC2007\\JPEGImages\\train\\hptm6321.jpg\n",
      "C:\\Users\\trent\\Documents\\DS 6050\\Final Project\\VOC2007\\JPEGImages\\train\\hptm3004.jpg\n",
      "C:\\Users\\trent\\Documents\\DS 6050\\Final Project\\VOC2007\\JPEGImages\\train\\hptm9299.jpg\n",
      "C:\\Users\\trent\\Documents\\DS 6050\\Final Project\\VOC2007\\JPEGImages\\train\\hpdji1197.jpg\n",
      "C:\\Users\\trent\\Documents\\DS 6050\\Final Project\\VOC2007\\JPEGImages\\train\\hpdr249.jpg\n",
      "C:\\Users\\trent\\Documents\\DS 6050\\Final Project\\VOC2007\\JPEGImages\\train\\hptm4110.jpg\n",
      "C:\\Users\\trent\\Documents\\DS 6050\\Final Project\\VOC2007\\JPEGImages\\train\\hptm4695.jpg\n",
      "C:\\Users\\trent\\Documents\\DS 6050\\Final Project\\VOC2007\\JPEGImages\\train\\hptm4563.jpg\n",
      "C:\\Users\\trent\\Documents\\DS 6050\\Final Project\\VOC2007\\JPEGImages\\train\\hpdji484.jpg\n",
      "C:\\Users\\trent\\Documents\\DS 6050\\Final Project\\VOC2007\\JPEGImages\\train\\hptm9204.jpg\n",
      "C:\\Users\\trent\\Documents\\DS 6050\\Final Project\\VOC2007\\JPEGImages\\train\\hook1395.jpg\n",
      "C:\\Users\\trent\\Documents\\DS 6050\\Final Project\\VOC2007\\JPEGImages\\train\\hook2450.jpg\n",
      "C:\\Users\\trent\\Documents\\DS 6050\\Final Project\\VOC2007\\JPEGImages\\train\\hd1271.jpg\n",
      "C:\\Users\\trent\\Documents\\DS 6050\\Final Project\\VOC2007\\JPEGImages\\train\\hptm7683.jpg\n",
      "C:\\Users\\trent\\Documents\\DS 6050\\Final Project\\VOC2007\\JPEGImages\\train\\hptm3227.jpg\n",
      "C:\\Users\\trent\\Documents\\DS 6050\\Final Project\\VOC2007\\JPEGImages\\train\\hpdji1404.jpg\n",
      "C:\\Users\\trent\\Documents\\DS 6050\\Final Project\\VOC2007\\JPEGImages\\train\\hpdr3819.jpg\n",
      "C:\\Users\\trent\\Documents\\DS 6050\\Final Project\\VOC2007\\JPEGImages\\train\\hpdr1824.jpg\n",
      "C:\\Users\\trent\\Documents\\DS 6050\\Final Project\\VOC2007\\JPEGImages\\train\\hptm1868.jpg\n",
      "C:\\Users\\trent\\Documents\\DS 6050\\Final Project\\VOC2007\\JPEGImages\\train\\hptm5375.jpg\n",
      "C:\\Users\\trent\\Documents\\DS 6050\\Final Project\\VOC2007\\JPEGImages\\train\\hpdji158.jpg\n",
      "C:\\Users\\trent\\Documents\\DS 6050\\Final Project\\VOC2007\\JPEGImages\\train\\sz263.jpg\n",
      "C:\\Users\\trent\\Documents\\DS 6050\\Final Project\\VOC2007\\JPEGImages\\train\\hptm3114.jpg\n",
      "C:\\Users\\trent\\Documents\\DS 6050\\Final Project\\VOC2007\\JPEGImages\\train\\hptm8404.jpg\n",
      "C:\\Users\\trent\\Documents\\DS 6050\\Final Project\\VOC2007\\JPEGImages\\train\\hd1319.jpg\n",
      "C:\\Users\\trent\\Documents\\DS 6050\\Final Project\\VOC2007\\JPEGImages\\train\\hptm6091.jpg\n",
      "C:\\Users\\trent\\Documents\\DS 6050\\Final Project\\VOC2007\\JPEGImages\\train\\hook2642.jpg\n",
      "C:\\Users\\trent\\Documents\\DS 6050\\Final Project\\VOC2007\\JPEGImages\\train\\hptm5434.jpg\n",
      "C:\\Users\\trent\\Documents\\DS 6050\\Final Project\\VOC2007\\JPEGImages\\train\\hd1054.jpg\n",
      "C:\\Users\\trent\\Documents\\DS 6050\\Final Project\\VOC2007\\JPEGImages\\train\\hd758.jpg\n",
      "C:\\Users\\trent\\Documents\\DS 6050\\Final Project\\VOC2007\\JPEGImages\\train\\hpdr2939.jpg\n",
      "C:\\Users\\trent\\Documents\\DS 6050\\Final Project\\VOC2007\\JPEGImages\\train\\hptm9116.jpg\n",
      "C:\\Users\\trent\\Documents\\DS 6050\\Final Project\\VOC2007\\JPEGImages\\train\\hook2598.jpg\n",
      "C:\\Users\\trent\\Documents\\DS 6050\\Final Project\\VOC2007\\JPEGImages\\train\\hptm5079.jpg\n",
      "C:\\Users\\trent\\Documents\\DS 6050\\Final Project\\VOC2007\\JPEGImages\\train\\hpdr3188.jpg\n",
      "C:\\Users\\trent\\Documents\\DS 6050\\Final Project\\VOC2007\\JPEGImages\\train\\hptm2248.jpg\n",
      "C:\\Users\\trent\\Documents\\DS 6050\\Final Project\\VOC2007\\JPEGImages\\train\\hpdji592.jpg\n",
      "C:\\Users\\trent\\Documents\\DS 6050\\Final Project\\VOC2007\\JPEGImages\\train\\hptm4552.jpg\n",
      "C:\\Users\\trent\\Documents\\DS 6050\\Final Project\\VOC2007\\JPEGImages\\train\\hptm475.jpg\n",
      "C:\\Users\\trent\\Documents\\DS 6050\\Final Project\\VOC2007\\JPEGImages\\train\\hptm1141.jpg\n",
      "C:\\Users\\trent\\Documents\\DS 6050\\Final Project\\VOC2007\\JPEGImages\\train\\hptm8885.jpg\n",
      "C:\\Users\\trent\\Documents\\DS 6050\\Final Project\\VOC2007\\JPEGImages\\train\\hptm1405.jpg\n",
      "C:\\Users\\trent\\Documents\\DS 6050\\Final Project\\VOC2007\\JPEGImages\\train\\hptm5235.jpg\n",
      "C:\\Users\\trent\\Documents\\DS 6050\\Final Project\\VOC2007\\JPEGImages\\train\\hptm4493.jpg\n",
      "C:\\Users\\trent\\Documents\\DS 6050\\Final Project\\VOC2007\\JPEGImages\\train\\hpdr2690.jpg\n",
      "C:\\Users\\trent\\Documents\\DS 6050\\Final Project\\VOC2007\\JPEGImages\\train\\hd997.jpg\n",
      "C:\\Users\\trent\\Documents\\DS 6050\\Final Project\\VOC2007\\JPEGImages\\train\\hptm4092.jpg\n",
      "C:\\Users\\trent\\Documents\\DS 6050\\Final Project\\VOC2007\\JPEGImages\\train\\hpdji613.jpg\n",
      "C:\\Users\\trent\\Documents\\DS 6050\\Final Project\\VOC2007\\JPEGImages\\train\\hpdr2587.jpg\n",
      "C:\\Users\\trent\\Documents\\DS 6050\\Final Project\\VOC2007\\JPEGImages\\train\\hptm1596.jpg\n",
      "C:\\Users\\trent\\Documents\\DS 6050\\Final Project\\VOC2007\\JPEGImages\\train\\hook1068.jpg\n",
      "C:\\Users\\trent\\Documents\\DS 6050\\Final Project\\VOC2007\\JPEGImages\\train\\hook1292.jpg\n",
      "C:\\Users\\trent\\Documents\\DS 6050\\Final Project\\VOC2007\\JPEGImages\\train\\hptm7996.jpg\n",
      "C:\\Users\\trent\\Documents\\DS 6050\\Final Project\\VOC2007\\JPEGImages\\train\\hptm8570.jpg\n",
      "C:\\Users\\trent\\Documents\\DS 6050\\Final Project\\VOC2007\\JPEGImages\\train\\hd911.jpg\n",
      "C:\\Users\\trent\\Documents\\DS 6050\\Final Project\\VOC2007\\JPEGImages\\train\\hpdji402.jpg\n",
      "C:\\Users\\trent\\Documents\\DS 6050\\Final Project\\VOC2007\\JPEGImages\\train\\hptm3206.jpg\n",
      "C:\\Users\\trent\\Documents\\DS 6050\\Final Project\\VOC2007\\JPEGImages\\train\\hpdr1907.jpg\n",
      "C:\\Users\\trent\\Documents\\DS 6050\\Final Project\\VOC2007\\JPEGImages\\train\\hook2778.jpg\n",
      "C:\\Users\\trent\\Documents\\DS 6050\\Final Project\\VOC2007\\JPEGImages\\train\\hpdji768.jpg\n",
      "C:\\Users\\trent\\Documents\\DS 6050\\Final Project\\VOC2007\\JPEGImages\\train\\hook225.jpg\n",
      "C:\\Users\\trent\\Documents\\DS 6050\\Final Project\\VOC2007\\JPEGImages\\train\\hptm1052.jpg\n",
      "C:\\Users\\trent\\Documents\\DS 6050\\Final Project\\VOC2007\\JPEGImages\\train\\hpdji1095.jpg\n",
      "C:\\Users\\trent\\Documents\\DS 6050\\Final Project\\VOC2007\\JPEGImages\\train\\hptm1723.jpg\n",
      "C:\\Users\\trent\\Documents\\DS 6050\\Final Project\\VOC2007\\JPEGImages\\train\\hpdr3738.jpg\n",
      "C:\\Users\\trent\\Documents\\DS 6050\\Final Project\\VOC2007\\JPEGImages\\train\\hpdr1341.jpg\n",
      "C:\\Users\\trent\\Documents\\DS 6050\\Final Project\\VOC2007\\JPEGImages\\train\\hd600.jpg\n",
      "C:\\Users\\trent\\Documents\\DS 6050\\Final Project\\VOC2007\\JPEGImages\\train\\hptm3217.jpg\n",
      "C:\\Users\\trent\\Documents\\DS 6050\\Final Project\\VOC2007\\JPEGImages\\train\\hook2716.jpg\n",
      "C:\\Users\\trent\\Documents\\DS 6050\\Final Project\\VOC2007\\JPEGImages\\train\\hook1436.jpg\n",
      "C:\\Users\\trent\\Documents\\DS 6050\\Final Project\\VOC2007\\JPEGImages\\train\\hptm7371.jpg\n",
      "C:\\Users\\trent\\Documents\\DS 6050\\Final Project\\VOC2007\\JPEGImages\\train\\hpdr3982.jpg\n",
      "C:\\Users\\trent\\Documents\\DS 6050\\Final Project\\VOC2007\\JPEGImages\\train\\hptm9350.jpg\n",
      "C:\\Users\\trent\\Documents\\DS 6050\\Final Project\\VOC2007\\JPEGImages\\train\\hptm4499.jpg\n",
      "C:\\Users\\trent\\Documents\\DS 6050\\Final Project\\VOC2007\\JPEGImages\\train\\hptm8415.jpg\n",
      "C:\\Users\\trent\\Documents\\DS 6050\\Final Project\\VOC2007\\JPEGImages\\train\\hpdr44.jpg\n",
      "C:\\Users\\trent\\Documents\\DS 6050\\Final Project\\VOC2007\\JPEGImages\\train\\hpdr896.jpg\n",
      "C:\\Users\\trent\\Documents\\DS 6050\\Final Project\\VOC2007\\JPEGImages\\train\\hptm4786.jpg\n",
      "C:\\Users\\trent\\Documents\\DS 6050\\Final Project\\VOC2007\\JPEGImages\\train\\hpdr1780.jpg\n",
      "C:\\Users\\trent\\Documents\\DS 6050\\Final Project\\VOC2007\\JPEGImages\\train\\hpdr1502.jpg\n",
      "C:\\Users\\trent\\Documents\\DS 6050\\Final Project\\VOC2007\\JPEGImages\\train\\hptm1341.jpg\n",
      "C:\\Users\\trent\\Documents\\DS 6050\\Final Project\\VOC2007\\JPEGImages\\train\\hptm2849.jpg\n",
      "C:\\Users\\trent\\Documents\\DS 6050\\Final Project\\VOC2007\\JPEGImages\\train\\hptm9161.jpg\n",
      "C:\\Users\\trent\\Documents\\DS 6050\\Final Project\\VOC2007\\JPEGImages\\train\\hpdr2639.jpg\n",
      "C:\\Users\\trent\\Documents\\DS 6050\\Final Project\\VOC2007\\JPEGImages\\train\\hptm1906.jpg\n",
      "C:\\Users\\trent\\Documents\\DS 6050\\Final Project\\VOC2007\\JPEGImages\\train\\hpdr3485.jpg\n",
      "C:\\Users\\trent\\Documents\\DS 6050\\Final Project\\VOC2007\\JPEGImages\\train\\hptm4282.jpg\n",
      "C:\\Users\\trent\\Documents\\DS 6050\\Final Project\\VOC2007\\JPEGImages\\train\\hd734.jpg\n",
      "C:\\Users\\trent\\Documents\\DS 6050\\Final Project\\VOC2007\\JPEGImages\\train\\yf885.jpg\n",
      "C:\\Users\\trent\\Documents\\DS 6050\\Final Project\\VOC2007\\JPEGImages\\train\\yf906.jpg\n",
      "C:\\Users\\trent\\Documents\\DS 6050\\Final Project\\VOC2007\\JPEGImages\\train\\hook201.jpg\n",
      "C:\\Users\\trent\\Documents\\DS 6050\\Final Project\\VOC2007\\JPEGImages\\train\\hpdr1452.jpg\n",
      "C:\\Users\\trent\\Documents\\DS 6050\\Final Project\\VOC2007\\JPEGImages\\train\\hptm3887.jpg\n",
      "C:\\Users\\trent\\Documents\\DS 6050\\Final Project\\VOC2007\\JPEGImages\\train\\hpdji864.jpg\n",
      "C:\\Users\\trent\\Documents\\DS 6050\\Final Project\\VOC2007\\JPEGImages\\train\\yf866.jpg\n",
      "C:\\Users\\trent\\Documents\\DS 6050\\Final Project\\VOC2007\\JPEGImages\\train\\hptm757.jpg\n",
      "C:\\Users\\trent\\Documents\\DS 6050\\Final Project\\VOC2007\\JPEGImages\\train\\hptm1907.jpg\n",
      "C:\\Users\\trent\\Documents\\DS 6050\\Final Project\\VOC2007\\JPEGImages\\train\\hptm6499.jpg\n",
      "C:\\Users\\trent\\Documents\\DS 6050\\Final Project\\VOC2007\\JPEGImages\\train\\hptm885.jpg\n",
      "C:\\Users\\trent\\Documents\\DS 6050\\Final Project\\VOC2007\\JPEGImages\\train\\hook2046.jpg\n",
      "C:\\Users\\trent\\Documents\\DS 6050\\Final Project\\VOC2007\\JPEGImages\\train\\hpdr3010.jpg\n",
      "C:\\Users\\trent\\Documents\\DS 6050\\Final Project\\VOC2007\\JPEGImages\\train\\hptm9236.jpg\n",
      "C:\\Users\\trent\\Documents\\DS 6050\\Final Project\\VOC2007\\JPEGImages\\train\\hd1360.jpg\n",
      "C:\\Users\\trent\\Documents\\DS 6050\\Final Project\\VOC2007\\JPEGImages\\train\\hook1937.jpg\n",
      "C:\\Users\\trent\\Documents\\DS 6050\\Final Project\\VOC2007\\JPEGImages\\train\\hptm4814.jpg\n",
      "C:\\Users\\trent\\Documents\\DS 6050\\Final Project\\VOC2007\\JPEGImages\\train\\hptm8984.jpg\n",
      "C:\\Users\\trent\\Documents\\DS 6050\\Final Project\\VOC2007\\JPEGImages\\train\\hpdr694.jpg\n",
      "C:\\Users\\trent\\Documents\\DS 6050\\Final Project\\VOC2007\\JPEGImages\\train\\hpdji1303.jpg\n",
      "C:\\Users\\trent\\Documents\\DS 6050\\Final Project\\VOC2007\\JPEGImages\\train\\hpdr2953.jpg\n",
      "C:\\Users\\trent\\Documents\\DS 6050\\Final Project\\VOC2007\\JPEGImages\\train\\hpdji273.jpg\n",
      "C:\\Users\\trent\\Documents\\DS 6050\\Final Project\\VOC2007\\JPEGImages\\train\\hd713.jpg\n",
      "C:\\Users\\trent\\Documents\\DS 6050\\Final Project\\VOC2007\\JPEGImages\\train\\hptm8256.jpg\n",
      "C:\\Users\\trent\\Documents\\DS 6050\\Final Project\\VOC2007\\JPEGImages\\train\\hook265.jpg\n",
      "C:\\Users\\trent\\Documents\\DS 6050\\Final Project\\VOC2007\\JPEGImages\\train\\hd2001.jpg\n",
      "C:\\Users\\trent\\Documents\\DS 6050\\Final Project\\VOC2007\\JPEGImages\\train\\yf476.jpg\n",
      "C:\\Users\\trent\\Documents\\DS 6050\\Final Project\\VOC2007\\JPEGImages\\train\\hpdr2961.jpg\n",
      "C:\\Users\\trent\\Documents\\DS 6050\\Final Project\\VOC2007\\JPEGImages\\train\\hptm1627.jpg\n",
      "C:\\Users\\trent\\Documents\\DS 6050\\Final Project\\VOC2007\\JPEGImages\\train\\hptm8675.jpg\n",
      "C:\\Users\\trent\\Documents\\DS 6050\\Final Project\\VOC2007\\JPEGImages\\train\\hpdr898.jpg\n",
      "C:\\Users\\trent\\Documents\\DS 6050\\Final Project\\VOC2007\\JPEGImages\\train\\hptm4044.jpg\n",
      "C:\\Users\\trent\\Documents\\DS 6050\\Final Project\\VOC2007\\JPEGImages\\train\\hook1477.jpg\n",
      "C:\\Users\\trent\\Documents\\DS 6050\\Final Project\\VOC2007\\JPEGImages\\train\\hook179.jpg\n",
      "C:\\Users\\trent\\Documents\\DS 6050\\Final Project\\VOC2007\\JPEGImages\\train\\hpdr2638.jpg\n",
      "C:\\Users\\trent\\Documents\\DS 6050\\Final Project\\VOC2007\\JPEGImages\\train\\hpdr2061.jpg\n",
      "C:\\Users\\trent\\Documents\\DS 6050\\Final Project\\VOC2007\\JPEGImages\\train\\hpdr1906.jpg\n",
      "C:\\Users\\trent\\Documents\\DS 6050\\Final Project\\VOC2007\\JPEGImages\\train\\hook2987.jpg\n",
      "C:\\Users\\trent\\Documents\\DS 6050\\Final Project\\VOC2007\\JPEGImages\\train\\hptm5279.jpg\n",
      "C:\\Users\\trent\\Documents\\DS 6050\\Final Project\\VOC2007\\JPEGImages\\train\\hptm7225.jpg\n",
      "C:\\Users\\trent\\Documents\\DS 6050\\Final Project\\VOC2007\\JPEGImages\\train\\hook2256.jpg\n",
      "C:\\Users\\trent\\Documents\\DS 6050\\Final Project\\VOC2007\\JPEGImages\\train\\hptm5400.jpg\n",
      "C:\\Users\\trent\\Documents\\DS 6050\\Final Project\\VOC2007\\JPEGImages\\train\\hptm5713.jpg\n",
      "C:\\Users\\trent\\Documents\\DS 6050\\Final Project\\VOC2007\\JPEGImages\\train\\hptm4796.jpg\n",
      "C:\\Users\\trent\\Documents\\DS 6050\\Final Project\\VOC2007\\JPEGImages\\train\\hpdr2671.jpg\n",
      "C:\\Users\\trent\\Documents\\DS 6050\\Final Project\\VOC2007\\JPEGImages\\train\\hd1654.jpg\n",
      "C:\\Users\\trent\\Documents\\DS 6050\\Final Project\\VOC2007\\JPEGImages\\train\\hptm6296.jpg\n",
      "C:\\Users\\trent\\Documents\\DS 6050\\Final Project\\VOC2007\\JPEGImages\\train\\hptm5822.jpg\n",
      "C:\\Users\\trent\\Documents\\DS 6050\\Final Project\\VOC2007\\JPEGImages\\train\\hptm9144.jpg\n",
      "C:\\Users\\trent\\Documents\\DS 6050\\Final Project\\VOC2007\\JPEGImages\\train\\hd1477.jpg\n",
      "C:\\Users\\trent\\Documents\\DS 6050\\Final Project\\VOC2007\\JPEGImages\\train\\hptm5841.jpg\n",
      "C:\\Users\\trent\\Documents\\DS 6050\\Final Project\\VOC2007\\JPEGImages\\train\\hpdr2692.jpg\n",
      "C:\\Users\\trent\\Documents\\DS 6050\\Final Project\\VOC2007\\JPEGImages\\train\\hptm8213.jpg\n",
      "C:\\Users\\trent\\Documents\\DS 6050\\Final Project\\VOC2007\\JPEGImages\\train\\hptm7717.jpg\n",
      "C:\\Users\\trent\\Documents\\DS 6050\\Final Project\\VOC2007\\JPEGImages\\train\\hd13.jpg\n",
      "C:\\Users\\trent\\Documents\\DS 6050\\Final Project\\VOC2007\\JPEGImages\\train\\hptm1724.jpg\n",
      "C:\\Users\\trent\\Documents\\DS 6050\\Final Project\\VOC2007\\JPEGImages\\train\\hptm5337.jpg\n",
      "C:\\Users\\trent\\Documents\\DS 6050\\Final Project\\VOC2007\\JPEGImages\\train\\hptm9124.jpg\n",
      "C:\\Users\\trent\\Documents\\DS 6050\\Final Project\\VOC2007\\JPEGImages\\train\\hptm71.jpg\n",
      "C:\\Users\\trent\\Documents\\DS 6050\\Final Project\\VOC2007\\JPEGImages\\train\\hd1842.jpg\n",
      "C:\\Users\\trent\\Documents\\DS 6050\\Final Project\\VOC2007\\JPEGImages\\train\\hook2139.jpg\n",
      "C:\\Users\\trent\\Documents\\DS 6050\\Final Project\\VOC2007\\JPEGImages\\train\\hptm4140.jpg\n",
      "C:\\Users\\trent\\Documents\\DS 6050\\Final Project\\VOC2007\\JPEGImages\\train\\hd1359.jpg\n",
      "C:\\Users\\trent\\Documents\\DS 6050\\Final Project\\VOC2007\\JPEGImages\\train\\hpdr1761.jpg\n",
      "C:\\Users\\trent\\Documents\\DS 6050\\Final Project\\VOC2007\\JPEGImages\\train\\hptm6575.jpg\n",
      "C:\\Users\\trent\\Documents\\DS 6050\\Final Project\\VOC2007\\JPEGImages\\train\\hpdji1029.jpg\n",
      "C:\\Users\\trent\\Documents\\DS 6050\\Final Project\\VOC2007\\JPEGImages\\train\\hptm2725.jpg\n",
      "C:\\Users\\trent\\Documents\\DS 6050\\Final Project\\VOC2007\\JPEGImages\\train\\hook387.jpg\n",
      "C:\\Users\\trent\\Documents\\DS 6050\\Final Project\\VOC2007\\JPEGImages\\train\\hptm7927.jpg\n",
      "C:\\Users\\trent\\Documents\\DS 6050\\Final Project\\VOC2007\\JPEGImages\\train\\hptm6790.jpg\n",
      "C:\\Users\\trent\\Documents\\DS 6050\\Final Project\\VOC2007\\JPEGImages\\train\\hptm1072.jpg\n",
      "C:\\Users\\trent\\Documents\\DS 6050\\Final Project\\VOC2007\\JPEGImages\\train\\hptm8866.jpg\n",
      "C:\\Users\\trent\\Documents\\DS 6050\\Final Project\\VOC2007\\JPEGImages\\train\\hpdr487.jpg\n",
      "C:\\Users\\trent\\Documents\\DS 6050\\Final Project\\VOC2007\\JPEGImages\\train\\hptm6427.jpg\n",
      "C:\\Users\\trent\\Documents\\DS 6050\\Final Project\\VOC2007\\JPEGImages\\train\\hook1635.jpg\n",
      "C:\\Users\\trent\\Documents\\DS 6050\\Final Project\\VOC2007\\JPEGImages\\train\\hptm1948.jpg\n",
      "C:\\Users\\trent\\Documents\\DS 6050\\Final Project\\VOC2007\\JPEGImages\\train\\hpdr3087.jpg\n",
      "C:\\Users\\trent\\Documents\\DS 6050\\Final Project\\VOC2007\\JPEGImages\\train\\hpdr3461.jpg\n",
      "C:\\Users\\trent\\Documents\\DS 6050\\Final Project\\VOC2007\\JPEGImages\\train\\hptm3431.jpg\n",
      "C:\\Users\\trent\\Documents\\DS 6050\\Final Project\\VOC2007\\JPEGImages\\train\\yf844.jpg\n",
      "C:\\Users\\trent\\Documents\\DS 6050\\Final Project\\VOC2007\\JPEGImages\\train\\hptm6609.jpg\n"
     ]
    }
   ],
   "source": [
    "# batch_move_files(test_names, source_dir, test_dir)\n",
    "batch_move_files(train_names, source_dir, train_dir)"
   ]
  },
  {
   "cell_type": "code",
   "execution_count": 78,
   "id": "64101bcd-15fc-4d3a-a6e3-16539db1a19a",
   "metadata": {},
   "outputs": [
    {
     "data": {
      "text/plain": [
       "'C:\\\\Users\\\\trent\\\\Documents\\\\DS 6050\\\\Final Project\\\\VOC2007\\\\JPEGImages\\\\.\\\\JPEGImages\\\\hd2008.jpg'"
      ]
     },
     "execution_count": 78,
     "metadata": {},
     "output_type": "execute_result"
    }
   ],
   "source": [
    "os.path.join('C:\\\\Users\\\\trent\\\\Documents\\\\DS 6050\\\\Final Project\\\\VOC2007\\\\JPEGImages\\\\','.\\\\JPEGImages\\\\hd2008.jpg')"
   ]
  },
  {
   "cell_type": "code",
   "execution_count": 65,
   "id": "2e65b7c7-76d2-4151-a4f5-d75ee1380a7f",
   "metadata": {},
   "outputs": [
    {
     "data": {
      "text/plain": [
       "'C:\\\\Users\\\\trent\\\\Documents\\\\DS 6050\\\\Final Project\\\\VOC2007\\\\JPEGImages\\\\hpdji587.jpg'"
      ]
     },
     "execution_count": 65,
     "metadata": {},
     "output_type": "execute_result"
    }
   ],
   "source": [
    "os.path.join('.\\\\test', 'C:\\\\Users\\\\trent\\\\Documents\\\\DS 6050\\\\Final Project\\\\VOC2007\\\\JPEGImages\\\\hpdji587.jpg')"
   ]
  },
  {
   "cell_type": "code",
   "execution_count": 43,
   "id": "4adf86f0-ffa3-4d72-a754-851705c97b1c",
   "metadata": {},
   "outputs": [
    {
     "data": {
      "text/plain": [
       "'C:\\\\Users\\\\trent\\\\Documents\\\\DS 6050\\\\Final Project\\\\VOC2007\\\\JPEGImages\\\\hpdji587.jpg'"
      ]
     },
     "execution_count": 43,
     "metadata": {},
     "output_type": "execute_result"
    }
   ],
   "source": [
    "(os.path.join(source_dir, 'C:\\\\Users\\\\trent\\\\Documents\\\\DS 6050\\\\Final Project\\\\VOC2007\\\\JPEGImages\\\\hpdji587.jpg'))"
   ]
  },
  {
   "cell_type": "code",
   "execution_count": null,
   "id": "f624447d-46ca-45bf-afc7-ad18bdca3a84",
   "metadata": {},
   "outputs": [],
   "source": []
  }
 ],
 "metadata": {
  "kernelspec": {
   "display_name": "Python 3 (ipykernel)",
   "language": "python",
   "name": "python3"
  },
  "language_info": {
   "codemirror_mode": {
    "name": "ipython",
    "version": 3
   },
   "file_extension": ".py",
   "mimetype": "text/x-python",
   "name": "python",
   "nbconvert_exporter": "python",
   "pygments_lexer": "ipython3",
   "version": "3.9.12"
  }
 },
 "nbformat": 4,
 "nbformat_minor": 5
}
